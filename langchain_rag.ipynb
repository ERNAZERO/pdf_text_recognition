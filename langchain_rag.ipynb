{
 "cells": [
  {
   "cell_type": "code",
   "execution_count": 1,
   "metadata": {
    "collapsed": true,
    "ExecuteTime": {
     "start_time": "2024-10-26T01:51:19.036293Z",
     "end_time": "2024-10-26T01:51:19.728917Z"
    }
   },
   "outputs": [],
   "source": [
    "from langchain_community.document_loaders import UnstructuredPDFLoader\n",
    "from langchain_community.embeddings import OllamaEmbeddings\n",
    "from langchain_text_splitters import RecursiveCharacterTextSplitter\n",
    "from langchain_community.vectorstores import Chroma\n",
    "from langchain.prompts import ChatPromptTemplate, PromptTemplate\n",
    "from langchain_core.output_parsers import StrOutputParser\n",
    "from langchain_community.chat_models import ChatOllama\n",
    "from langchain_core.runnables import RunnablePassthrough\n",
    "from langchain.retrievers.multi_query import MultiQueryRetriever\n"
   ]
  },
  {
   "cell_type": "code",
   "execution_count": 2,
   "outputs": [],
   "source": [
    "\n",
    "local_path = \"docs/Dastan.pdf\"  # Убедитесь, что путь правильный\n",
    "\n",
    "if local_path:\n",
    "    loader = UnstructuredPDFLoader(file_path=local_path)\n",
    "    data = loader.load()\n",
    "else:\n",
    "    print(\"Keine PDF.\")\n"
   ],
   "metadata": {
    "collapsed": false,
    "ExecuteTime": {
     "start_time": "2024-10-26T01:51:19.730720Z",
     "end_time": "2024-10-26T01:51:23.870007Z"
    }
   }
  },
  {
   "cell_type": "code",
   "execution_count": 3,
   "outputs": [
    {
     "data": {
      "text/plain": "'Dastan Sharshekeev Kirgisisch-Deutsches Institut für Angewandte Informatik # dastan.sharshekeevv@gmail.com # dastan.sharshekeev@inai.kg § GitHub Profile (cid:239) LinkedIn Profile\\n\\nShul-Und Berufsbildung\\n\\nKirgisisch-Deutsches Institut für Angewandte Informatik\\n\\nAngewandte Informatik\\n\\nBildungskomplex. Gymnasium Schule Nr. 29\\n\\nBerufsehrfahrung\\n\\nHigh Technology Park of Kyrgyz Republic\\n\\nIT-Spezialist – Automatisierung des Eingangs von Einwohneranträgen. – Digitale Dokumentenverwaltung\\n\\nProjektarbeit\\n\\nFull Stack Developer – Website-Visitenkarte für den Währungsumtausch – Telegram-Chatbot für die Annahme von Bewerbungen\\n\\nFreiberufliche Tätigkeit\\n\\nFull Stack Developer – Website eines Kosmetikgeschäfts – Automatisierung des Empfangs von Briefen für die Postorganisation\\n\\nHausarbeit\\n\\nSmart Reports\\n\\nProjekt, das sich an kleine und mittlere Unternehmen richtet.\\n\\n– Verwendete Tools & Technologien: Java (Spring boot), Kotlin(Android), Heroku(DevOps) – Es ermöglicht Ihnen, Ihr Budget, Ihre Mitarbeiter und so weiter zu verwalten.\\n\\nFrom Home\\n\\nEin Projekt zum Verkauf von Lebensmitteln und Backwaren, die von Hausfrauen zubereitet werden\\n\\n– Tools & technologies used: Java(Spring boot), Dart(Flutter), AWS(DevOps)\\n\\nTechnische Fertigkeiten und Interessen\\n\\nSprachen: Russisch, Kirgisisch, Englisch, Deutsch Entwickler-Tools: Java, Dart, JavaScript, TypeScript, Kotlin, Intellij Idea, NetBeans Frameworks: Spring, Spring boot, Flutter, Angular, React Cloud/Databases: SQL (PosgtreSQL, MySQL), NoSQL(MongoDB), AWS Soft Skills: Kommunikationsfähigkeit, Teamarbeit, Kreativität Areas of Interest: IT-Sicherheit, Basketball\\n\\nErrungenschaft\\n\\nErster Platz beim Interuniversitären Herbst-Hackathon\\n\\nZweiter Platz beim Interuniversitären Herbst-Hackathon\\n\\nThe 2023 ICPC Kyrgyzstan Regional Contest\\n\\nSeptember 2021 - Heute\\n\\nCGPA/Percentage: 4,53\\n\\nSeptember 2010 - Juni 2021\\n\\nAugust 2023 - Heute\\n\\nBishkek\\n\\nFebruar 2023\\n\\nBishkek\\n\\nJanuar 2022 - Heute\\n\\nBishkek\\n\\nMai 2022\\n\\nMai 2023\\n\\nDezember 2023\\n\\nDezember 2022\\n\\nOctober 2023'"
     },
     "execution_count": 3,
     "metadata": {},
     "output_type": "execute_result"
    }
   ],
   "source": [
    "data[0].page_content"
   ],
   "metadata": {
    "collapsed": false,
    "ExecuteTime": {
     "start_time": "2024-10-26T01:51:23.871685Z",
     "end_time": "2024-10-26T01:51:23.873740Z"
    }
   }
  },
  {
   "cell_type": "code",
   "execution_count": 4,
   "outputs": [],
   "source": [
    "# !ollama pull nomic-embed-text"
   ],
   "metadata": {
    "collapsed": false,
    "ExecuteTime": {
     "start_time": "2024-10-26T01:51:23.874338Z",
     "end_time": "2024-10-26T01:51:23.875969Z"
    }
   }
  },
  {
   "cell_type": "code",
   "execution_count": 5,
   "outputs": [
    {
     "name": "stdout",
     "output_type": "stream",
     "text": [
      "NAME                       ID              SIZE      MODIFIED       \r\n",
      "mistral:latest             f974a74358d6    4.1 GB    39 minutes ago    \r\n",
      "nomic-embed-text:latest    0a109f422b47    274 MB    2 hours ago       \r\n"
     ]
    }
   ],
   "source": [
    "!ollama list"
   ],
   "metadata": {
    "collapsed": false,
    "ExecuteTime": {
     "start_time": "2024-10-26T01:51:23.877632Z",
     "end_time": "2024-10-26T01:51:24.045517Z"
    }
   }
  },
  {
   "cell_type": "code",
   "execution_count": 6,
   "outputs": [
    {
     "name": "stdout",
     "output_type": "stream",
     "text": [
      "[Document(metadata={'source': 'docs/Dastan.pdf'}, page_content='Dastan Sharshekeev Kirgisisch-Deutsches Institut für Angewandte Informatik # dastan.sharshekeevv@gmail.com # dastan.sharshekeev@inai.kg § GitHub Profile (cid:239) LinkedIn Profile\\n\\nShul-Und Berufsbildung\\n\\nKirgisisch-Deutsches Institut für Angewandte Informatik\\n\\nAngewandte Informatik\\n\\nBildungskomplex. Gymnasium Schule Nr. 29\\n\\nBerufsehrfahrung\\n\\nHigh Technology Park of Kyrgyz Republic\\n\\nIT-Spezialist – Automatisierung des Eingangs von Einwohneranträgen. – Digitale Dokumentenverwaltung\\n\\nProjektarbeit\\n\\nFull Stack Developer – Website-Visitenkarte für den Währungsumtausch – Telegram-Chatbot für die Annahme von Bewerbungen\\n\\nFreiberufliche Tätigkeit\\n\\nFull Stack Developer – Website eines Kosmetikgeschäfts – Automatisierung des Empfangs von Briefen für die Postorganisation\\n\\nHausarbeit\\n\\nSmart Reports\\n\\nProjekt, das sich an kleine und mittlere Unternehmen richtet.\\n\\n– Verwendete Tools & Technologien: Java (Spring boot), Kotlin(Android), Heroku(DevOps) – Es ermöglicht Ihnen, Ihr Budget, Ihre Mitarbeiter und so weiter zu verwalten.\\n\\nFrom Home\\n\\nEin Projekt zum Verkauf von Lebensmitteln und Backwaren, die von Hausfrauen zubereitet werden\\n\\n– Tools & technologies used: Java(Spring boot), Dart(Flutter), AWS(DevOps)\\n\\nTechnische Fertigkeiten und Interessen\\n\\nSprachen: Russisch, Kirgisisch, Englisch, Deutsch Entwickler-Tools: Java, Dart, JavaScript, TypeScript, Kotlin, Intellij Idea, NetBeans Frameworks: Spring, Spring boot, Flutter, Angular, React Cloud/Databases: SQL (PosgtreSQL, MySQL), NoSQL(MongoDB), AWS Soft Skills: Kommunikationsfähigkeit, Teamarbeit, Kreativität Areas of Interest: IT-Sicherheit, Basketball\\n\\nErrungenschaft\\n\\nErster Platz beim Interuniversitären Herbst-Hackathon\\n\\nZweiter Platz beim Interuniversitären Herbst-Hackathon\\n\\nThe 2023 ICPC Kyrgyzstan Regional Contest\\n\\nSeptember 2021 - Heute\\n\\nCGPA/Percentage: 4,53\\n\\nSeptember 2010 - Juni 2021\\n\\nAugust 2023 - Heute\\n\\nBishkek\\n\\nFebruar 2023\\n\\nBishkek\\n\\nJanuar 2022 - Heute\\n\\nBishkek\\n\\nMai 2022\\n\\nMai 2023\\n\\nDezember 2023\\n\\nDezember 2022\\n\\nOctober 2023')]\n"
     ]
    }
   ],
   "source": [
    "text_splitter = RecursiveCharacterTextSplitter(chunk_size=7500, chunk_overlap=100)\n",
    "chunks = text_splitter.split_documents(data)\n",
    "print(chunks)"
   ],
   "metadata": {
    "collapsed": false,
    "ExecuteTime": {
     "start_time": "2024-10-26T01:51:24.046830Z",
     "end_time": "2024-10-26T01:51:24.049177Z"
    }
   }
  },
  {
   "cell_type": "code",
   "execution_count": 7,
   "outputs": [
    {
     "name": "stderr",
     "output_type": "stream",
     "text": [
      "/var/folders/y8/ndh9qhzj7t98rv05wws177ph0000gn/T/ipykernel_27294/2106810776.py:3: LangChainDeprecationWarning: The class `OllamaEmbeddings` was deprecated in LangChain 0.3.1 and will be removed in 1.0.0. An updated version of the class exists in the :class:`~langchain-ollama package and should be used instead. To use it run `pip install -U :class:`~langchain-ollama` and import as `from :class:`~langchain_ollama import OllamaEmbeddings``.\n",
      "  embedding=OllamaEmbeddings(model=\"nomic-embed-text\", show_progress=True),\n",
      "OllamaEmbeddings: 100%|██████████| 1/1 [00:01<00:00,  1.23s/it]\n"
     ]
    }
   ],
   "source": [
    "vector_db = Chroma.from_documents(\n",
    "    documents=chunks,\n",
    "    embedding=OllamaEmbeddings(model=\"nomic-embed-text\", show_progress=True),\n",
    "    collection_name=\"local-rag\"\n",
    ")\n",
    "# print(vector_db)"
   ],
   "metadata": {
    "collapsed": false,
    "ExecuteTime": {
     "start_time": "2024-10-26T01:51:24.055527Z",
     "end_time": "2024-10-26T01:51:25.590114Z"
    }
   }
  },
  {
   "cell_type": "code",
   "execution_count": 8,
   "outputs": [],
   "source": [
    "\n",
    "# !ollama pull mistral"
   ],
   "metadata": {
    "collapsed": false,
    "ExecuteTime": {
     "start_time": "2024-10-26T01:51:25.590633Z",
     "end_time": "2024-10-26T01:51:25.594823Z"
    }
   }
  },
  {
   "cell_type": "code",
   "execution_count": 9,
   "outputs": [
    {
     "name": "stderr",
     "output_type": "stream",
     "text": [
      "/var/folders/y8/ndh9qhzj7t98rv05wws177ph0000gn/T/ipykernel_27294/1632367389.py:2: LangChainDeprecationWarning: The class `ChatOllama` was deprecated in LangChain 0.3.1 and will be removed in 1.0.0. An updated version of the class exists in the :class:`~langchain-ollama package and should be used instead. To use it run `pip install -U :class:`~langchain-ollama` and import as `from :class:`~langchain_ollama import ChatOllama``.\n",
      "  llm = ChatOllama(model=local_model)\n"
     ]
    }
   ],
   "source": [
    "local_model = \"mistral\"\n",
    "llm = ChatOllama(model=local_model)"
   ],
   "metadata": {
    "collapsed": false,
    "ExecuteTime": {
     "start_time": "2024-10-26T01:51:25.612711Z",
     "end_time": "2024-10-26T01:51:25.633627Z"
    }
   }
  },
  {
   "cell_type": "code",
   "execution_count": 10,
   "outputs": [],
   "source": [
    "QUERY_PROMPT = PromptTemplate(\n",
    "    input_variables = ['question'],\n",
    "    template=\"\"\" You are an intelligent model designed to help the user answer questions. Your task is to provide answers to questions based only on the information contained in the uploaded PDF document. You must answer in German. If there is no information in the document, report that there is no answer. Original question: {question}. After answering to question. Forget all information and data from PDF.\n",
    "   \"\"\",\n",
    "\n",
    ")"
   ],
   "metadata": {
    "collapsed": false,
    "ExecuteTime": {
     "start_time": "2024-10-26T01:51:25.635118Z",
     "end_time": "2024-10-26T01:51:25.637292Z"
    }
   }
  },
  {
   "cell_type": "code",
   "execution_count": 11,
   "outputs": [],
   "source": [
    "retriever = MultiQueryRetriever.from_llm(\n",
    "    vector_db.as_retriever(),\n",
    "    llm,\n",
    "    prompt=QUERY_PROMPT\n",
    ")\n",
    "# print(retriever)\n",
    "template = \"\"\"Answer the question based only on the following context:\n",
    "{context}\n",
    "Question: {question}\n",
    "\"\"\"\n",
    "\n",
    "prompt = ChatPromptTemplate.from_template(template)\n"
   ],
   "metadata": {
    "collapsed": false,
    "ExecuteTime": {
     "start_time": "2024-10-26T01:51:25.638709Z",
     "end_time": "2024-10-26T01:51:25.640393Z"
    }
   }
  },
  {
   "cell_type": "code",
   "execution_count": 12,
   "outputs": [],
   "source": [
    "chain = (\n",
    "    {\"context\": retriever, \"question\": RunnablePassthrough()}\n",
    "    | prompt\n",
    "    | llm\n",
    "    | StrOutputParser()\n",
    ")"
   ],
   "metadata": {
    "collapsed": false,
    "ExecuteTime": {
     "start_time": "2024-10-26T01:51:25.641794Z",
     "end_time": "2024-10-26T01:51:25.643391Z"
    }
   }
  },
  {
   "cell_type": "code",
   "execution_count": 16,
   "outputs": [
    {
     "data": {
      "text/plain": "{\n  context: MultiQueryRetriever(retriever=VectorStoreRetriever(tags=['Chroma', 'OllamaEmbeddings'], vectorstore=<langchain_community.vectorstores.chroma.Chroma object at 0x109e137c0>, search_kwargs={}), llm_chain=PromptTemplate(input_variables=['question'], input_types={}, partial_variables={}, template=' You are an intelligent model designed to help the user answer questions. Your task is to provide answers to questions based only on the information contained in the uploaded PDF document. You must answer in German. If there is no information in the document, report that there is no answer. Original question: {question}. After answering to question. Forget all information and data from PDF.\\n   ')\n           | ChatOllama(model='mistral')\n           | LineListOutputParser()),\n  question: RunnablePassthrough()\n}\n| ChatPromptTemplate(input_variables=['context', 'question'], input_types={}, partial_variables={}, messages=[HumanMessagePromptTemplate(prompt=PromptTemplate(input_variables=['context', 'question'], input_types={}, partial_variables={}, template='Answer the question based only on the following context:\\n{context}\\nQuestion: {question}\\n'), additional_kwargs={})])\n| ChatOllama(model='mistral')\n| StrOutputParser()"
     },
     "execution_count": 16,
     "metadata": {},
     "output_type": "execute_result"
    }
   ],
   "source": [
    "chain.invoke(input(\"\"))"
   ],
   "metadata": {
    "collapsed": false,
    "ExecuteTime": {
     "start_time": "2024-10-26T02:02:15.542888Z",
     "end_time": "2024-10-26T02:02:15.552496Z"
    }
   }
  },
  {
   "cell_type": "code",
   "execution_count": 14,
   "outputs": [],
   "source": [
    "# chain.invoke(input(\"\"))"
   ],
   "metadata": {
    "collapsed": false,
    "ExecuteTime": {
     "start_time": "2024-10-26T01:52:16.449396Z",
     "end_time": "2024-10-26T01:52:16.486986Z"
    }
   }
  },
  {
   "cell_type": "code",
   "execution_count": 15,
   "outputs": [],
   "source": [
    "# chain.invoke(input(\"\"))"
   ],
   "metadata": {
    "collapsed": false,
    "ExecuteTime": {
     "start_time": "2024-10-26T01:52:16.449865Z",
     "end_time": "2024-10-26T01:52:16.487284Z"
    }
   }
  },
  {
   "cell_type": "code",
   "execution_count": 15,
   "outputs": [],
   "source": [],
   "metadata": {
    "collapsed": false,
    "ExecuteTime": {
     "start_time": "2024-10-26T01:52:16.451313Z",
     "end_time": "2024-10-26T01:52:16.487326Z"
    }
   }
  }
 ],
 "metadata": {
  "kernelspec": {
   "display_name": "Python 3",
   "language": "python",
   "name": "python3"
  },
  "language_info": {
   "codemirror_mode": {
    "name": "ipython",
    "version": 2
   },
   "file_extension": ".py",
   "mimetype": "text/x-python",
   "name": "python",
   "nbconvert_exporter": "python",
   "pygments_lexer": "ipython2",
   "version": "2.7.6"
  }
 },
 "nbformat": 4,
 "nbformat_minor": 0
}
